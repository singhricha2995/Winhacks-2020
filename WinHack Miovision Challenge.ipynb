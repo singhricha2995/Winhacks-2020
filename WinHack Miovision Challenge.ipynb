{
 "cells": [
  {
   "cell_type": "code",
   "execution_count": 1,
   "metadata": {},
   "outputs": [],
   "source": [
    "#Importing necessary libraries\n",
    "import numpy as np\n",
    "import pandas as pd\n",
    "import matplotlib.pyplot as plt\n",
    "%matplotlib inline\n",
    "import seaborn as sns"
   ]
  },
  {
   "cell_type": "code",
   "execution_count": 2,
   "metadata": {},
   "outputs": [
    {
     "name": "stderr",
     "output_type": "stream",
     "text": [
      "C:\\ProgramData\\Anaconda3\\lib\\site-packages\\IPython\\core\\interactiveshell.py:3057: DtypeWarning: Columns (0,1,2,3,4,5) have mixed types. Specify dtype option on import or set low_memory=False.\n",
      "  interactivity=interactivity, compiler=compiler, result=result)\n"
     ]
    }
   ],
   "source": [
    "# Define the files we want to load\n",
    "dor_huron_trainw = pd.read_csv('./Dorchester Road and Huron Church Road_tmc_data_trainw.csv')\n",
    "dragon_fisher_trainw = pd.read_csv('./Dragoon and Fisher Fwy Ser Drs_tmc_data_trainw.csv')\n",
    "grand_blvd_jeffries_nsd_trainw = pd.read_csv('./Grand Blvd W and Jeffries Fwy NSD_tmc_data_trainw.csv')\n",
    "grand_blvd_jeffries_ssd_trainw = pd.read_csv('./Grand Blvd W and Jeffries Fwy SSD_tmc_data_trainw.csv')\n",
    "lafayette_waterman_trainw = pd.read_csv('./Lafayette Boulevard and Waterman Street_tmc_data_trainw.csv')\n",
    "malden_huron_trainw = pd.read_csv('./Malden Road and Huron Church Road_tmc_data_trainw.csv')\n",
    "totten_huron_trainw = pd.read_csv('./Totten Street and Huron Church Road_tmc_data_trainw.csv')"
   ]
  },
  {
   "cell_type": "code",
   "execution_count": 3,
   "metadata": {},
   "outputs": [],
   "source": [
    "#concat all df and save to csv\n",
    "concat_df = [dor_huron_trainw , dragon_fisher_trainw, grand_blvd_jeffries_nsd_trainw, grand_blvd_jeffries_ssd_trainw, lafayette_waterman_trainw, malden_huron_trainw, totten_huron_trainw]\n",
    "combined_df = pd.concat(concat_df)\n",
    "combined_df.to_csv(r'combined_df.csv', index = False)"
   ]
  },
  {
   "cell_type": "code",
   "execution_count": null,
   "metadata": {},
   "outputs": [],
   "source": []
  }
 ],
 "metadata": {
  "kernelspec": {
   "display_name": "Python 3",
   "language": "python",
   "name": "python3"
  },
  "language_info": {
   "codemirror_mode": {
    "name": "ipython",
    "version": 3
   },
   "file_extension": ".py",
   "mimetype": "text/x-python",
   "name": "python",
   "nbconvert_exporter": "python",
   "pygments_lexer": "ipython3",
   "version": "3.7.3"
  }
 },
 "nbformat": 4,
 "nbformat_minor": 2
}
